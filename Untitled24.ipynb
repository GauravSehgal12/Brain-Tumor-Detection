{
  "cells": [
    {
      "cell_type": "code",
      "execution_count": null,
      "metadata": {
        "id": "lAVNdAUs_dbK"
      },
      "outputs": [],
      "source": [
        "import cv2\n",
        "import os\n",
        "from PIL import Image\n",
        "import numpy as np"
      ]
    },
    {
      "cell_type": "code",
      "execution_count": null,
      "metadata": {
        "id": "FuZlO2wt_2fy"
      },
      "outputs": [],
      "source": [
        "image_directory='/content/drive/MyDrive/archive (9)/dataset/'"
      ]
    },
    {
      "cell_type": "code",
      "execution_count": null,
      "metadata": {
        "id": "Ps50sakA_8T4"
      },
      "outputs": [],
      "source": [
        "no_tumor_images=os.listdir('/content/drive/MyDrive/no')"
      ]
    },
    {
      "cell_type": "code",
      "execution_count": null,
      "metadata": {
        "id": "XWLdHQeBFZox"
      },
      "outputs": [],
      "source": [
        "yes_tumor_images=os.listdir('/content/drive/MyDrive/yes')"
      ]
    },
    {
      "cell_type": "code",
      "execution_count": null,
      "metadata": {
        "id": "we-kJVPtD2KG"
      },
      "outputs": [],
      "source": [
        "dataset=[]\n",
        "label=[]"
      ]
    },
    {
      "cell_type": "code",
      "execution_count": null,
      "metadata": {
        "id": "03G_K-EqBPzF"
      },
      "outputs": [],
      "source": [
        "import cv2\n",
        "from PIL import Image\n",
        "import numpy as np\n",
        "\n",
        "dataset = []\n",
        "label = []\n",
        "\n",
        "for i, image_name in enumerate(no_tumor_images):\n",
        "    if image_name.split('.')[1] == 'jpg':\n",
        "        # Ensure the path is correct, including the extension\n",
        "        image_path = f'/content/drive/MyDrive/no/{image_name}'\n",
        "        image = cv2.imread(image_path)\n",
        "\n",
        "        # Check if the image was loaded successfully\n",
        "        if image is not None:\n",
        "            image = Image.fromarray(image, 'RGB')\n",
        "            image = image.resize((64, 64))\n",
        "            dataset.append(np.array(image))\n",
        "            label.append(0)\n",
        "        else:\n",
        "            print(f\"Warning: Image at path {image_path} could not be loaded.\")\n"
      ]
    },
    {
      "cell_type": "code",
      "execution_count": null,
      "metadata": {
        "id": "0e6adMFgDMG2"
      },
      "outputs": [],
      "source": [
        "\n",
        "\n",
        "for i, image_name in enumerate(yes_tumor_images):\n",
        "    if image_name.split('.')[1] == 'jpg':\n",
        "        # Ensure the path is correct, including the extension\n",
        "        image_path = f'/content/drive/MyDrive/yes/{image_name}'\n",
        "        image = cv2.imread(image_path)\n",
        "\n",
        "        # Check if the image was loaded successfully\n",
        "        if image is not None:\n",
        "            image = Image.fromarray(image, 'RGB')\n",
        "            image = image.resize((64, 64))\n",
        "            dataset.append(np.array(image))\n",
        "            label.append(1)\n",
        "        else:\n",
        "            print(f\"Warning: Image at path {image_path} could not be loaded.\")"
      ]
    },
    {
      "cell_type": "code",
      "execution_count": null,
      "metadata": {
        "colab": {
          "base_uri": "https://localhost:8080/"
        },
        "id": "Me7QdOH0F-bx",
        "outputId": "c2719c04-5dcb-455e-d8c6-a290bbccd0d6"
      },
      "outputs": [
        {
          "output_type": "execute_result",
          "data": {
            "text/plain": [
              "4136"
            ]
          },
          "metadata": {},
          "execution_count": 10
        }
      ],
      "source": [
        "len(label)"
      ]
    },
    {
      "cell_type": "code",
      "execution_count": null,
      "metadata": {
        "colab": {
          "base_uri": "https://localhost:8080/"
        },
        "id": "clvMWvM9F_BJ",
        "outputId": "6f877796-24c3-4b4e-ac9e-ccf12059d715"
      },
      "outputs": [
        {
          "output_type": "execute_result",
          "data": {
            "text/plain": [
              "4136"
            ]
          },
          "metadata": {},
          "execution_count": 11
        }
      ],
      "source": [
        "len(dataset)"
      ]
    },
    {
      "cell_type": "code",
      "source": [],
      "metadata": {
        "id": "r4keVTVegqn8"
      },
      "execution_count": null,
      "outputs": []
    },
    {
      "cell_type": "code",
      "execution_count": null,
      "metadata": {
        "id": "h8YOkQpuHBx5"
      },
      "outputs": [],
      "source": [
        "dataset=np.array(dataset)\n",
        "label=np.array(label)"
      ]
    },
    {
      "cell_type": "code",
      "execution_count": null,
      "metadata": {
        "id": "bX8j7NikKuW5"
      },
      "outputs": [],
      "source": [
        "from sklearn.model_selection import train_test_split"
      ]
    },
    {
      "cell_type": "code",
      "execution_count": null,
      "metadata": {
        "id": "WKxkQEt9K1Xv"
      },
      "outputs": [],
      "source": [
        "x_train,x_test,y_train,y_test=train_test_split(dataset,label,test_size=.2,random_state=0)"
      ]
    },
    {
      "cell_type": "code",
      "execution_count": null,
      "metadata": {
        "id": "q4EWpiJhL5vp",
        "colab": {
          "base_uri": "https://localhost:8080/"
        },
        "outputId": "846e0ad7-6782-4e4f-ab7f-58038ef112c0"
      },
      "outputs": [
        {
          "output_type": "execute_result",
          "data": {
            "text/plain": [
              "(3308, 64, 64, 3)"
            ]
          },
          "metadata": {},
          "execution_count": 15
        }
      ],
      "source": [
        "x_train.shape"
      ]
    },
    {
      "cell_type": "code",
      "source": [
        "x_test.shape"
      ],
      "metadata": {
        "colab": {
          "base_uri": "https://localhost:8080/"
        },
        "id": "RT_BGRCOd36Q",
        "outputId": "67c8698d-0e8b-4050-e21f-cf7c5618e396"
      },
      "execution_count": null,
      "outputs": [
        {
          "output_type": "execute_result",
          "data": {
            "text/plain": [
              "(828, 64, 64, 3)"
            ]
          },
          "metadata": {},
          "execution_count": 16
        }
      ]
    },
    {
      "cell_type": "code",
      "source": [
        "y_train.shape"
      ],
      "metadata": {
        "colab": {
          "base_uri": "https://localhost:8080/"
        },
        "id": "ITLeL_NAgefF",
        "outputId": "69ea1c2a-ae9c-404c-f73b-162fc106145e"
      },
      "execution_count": null,
      "outputs": [
        {
          "output_type": "execute_result",
          "data": {
            "text/plain": [
              "(3308,)"
            ]
          },
          "metadata": {},
          "execution_count": 17
        }
      ]
    },
    {
      "cell_type": "code",
      "source": [
        "from tensorflow import keras\n",
        "from keras.utils import normalize"
      ],
      "metadata": {
        "id": "k2asl8x5ePr1"
      },
      "execution_count": null,
      "outputs": []
    },
    {
      "cell_type": "code",
      "source": [
        "x_train=normalize(x_train,axis=1)\n",
        "x_test=normalize(x_test,axis=1)"
      ],
      "metadata": {
        "id": "uxXVEvldegwq"
      },
      "execution_count": null,
      "outputs": []
    },
    {
      "cell_type": "code",
      "source": [
        "from keras.models import Sequential\n",
        "from keras.layers import Conv2D,Activation,Dropout,Flatten,Dense"
      ],
      "metadata": {
        "id": "2u2vCdwBeveD"
      },
      "execution_count": null,
      "outputs": []
    },
    {
      "cell_type": "code",
      "source": [
        "from tensorflow.keras.layers import MaxPooling2D\n"
      ],
      "metadata": {
        "id": "9Y8B-C-FfhQx"
      },
      "execution_count": null,
      "outputs": []
    },
    {
      "cell_type": "code",
      "source": [
        "model=Sequential()"
      ],
      "metadata": {
        "id": "qyh1Dca3fzFH"
      },
      "execution_count": null,
      "outputs": []
    },
    {
      "cell_type": "code",
      "source": [
        "model.add(Conv2D(32,(3,3),input_shape=(64,64,3)))"
      ],
      "metadata": {
        "id": "n19tWL6PhDQe"
      },
      "execution_count": null,
      "outputs": []
    },
    {
      "cell_type": "code",
      "source": [
        "model.add(Activation('relu'))\n",
        "model.add(MaxPooling2D(pool_size=(2,2)))"
      ],
      "metadata": {
        "id": "0je1gcjjhdFB"
      },
      "execution_count": null,
      "outputs": []
    },
    {
      "cell_type": "code",
      "source": [
        "model.add(Conv2D(32,(3,3),kernel_initializer='he_uniform'))\n",
        "model.add(Activation('relu'))\n",
        "model.add(MaxPooling2D(pool_size=(2,2)))"
      ],
      "metadata": {
        "id": "3DIKiPHIh32T"
      },
      "execution_count": null,
      "outputs": []
    },
    {
      "cell_type": "code",
      "source": [
        "model.add(Conv2D(64,(3,3),kernel_initializer='he_uniform'))\n",
        "model.add(Activation('relu'))\n",
        "model.add(MaxPooling2D(pool_size=(2,2)))"
      ],
      "metadata": {
        "id": "6yYIUxGPiDoB"
      },
      "execution_count": null,
      "outputs": []
    },
    {
      "cell_type": "code",
      "source": [
        "model.add(Flatten())\n",
        "model.add(Dense(64))\n",
        "model.add(Activation('relu'))\n",
        "model.add(Dense(1))\n",
        "model.add(Activation('sigmoid'))"
      ],
      "metadata": {
        "id": "T4bDq214icbZ"
      },
      "execution_count": null,
      "outputs": []
    },
    {
      "cell_type": "code",
      "source": [
        "model.compile(loss='binary_crossentropy',optimizer='adam',metrics=['accuracy'])"
      ],
      "metadata": {
        "id": "HzqiYndZjR9j"
      },
      "execution_count": null,
      "outputs": []
    },
    {
      "cell_type": "code",
      "source": [
        "model.fit(x_train,y_train,batch_size=16,verbose=1,epochs=10,validation_data=(x_test,y_test),shuffle=False)"
      ],
      "metadata": {
        "colab": {
          "base_uri": "https://localhost:8080/"
        },
        "id": "8Uthy_S3jvqZ",
        "outputId": "08e84248-2a55-4623-8e5e-a6f0c957d7f6"
      },
      "execution_count": null,
      "outputs": [
        {
          "output_type": "stream",
          "name": "stdout",
          "text": [
            "Epoch 1/10\n",
            "207/207 [==============================] - 20s 87ms/step - loss: 0.4642 - accuracy: 0.7950 - val_loss: 0.3077 - val_accuracy: 0.8732\n",
            "Epoch 2/10\n",
            "207/207 [==============================] - 18s 86ms/step - loss: 0.2879 - accuracy: 0.8803 - val_loss: 0.2068 - val_accuracy: 0.9203\n",
            "Epoch 3/10\n",
            "207/207 [==============================] - 18s 85ms/step - loss: 0.1697 - accuracy: 0.9383 - val_loss: 0.1235 - val_accuracy: 0.9601\n",
            "Epoch 4/10\n",
            "207/207 [==============================] - 22s 107ms/step - loss: 0.0811 - accuracy: 0.9734 - val_loss: 0.0804 - val_accuracy: 0.9746\n",
            "Epoch 5/10\n",
            "207/207 [==============================] - 19s 94ms/step - loss: 0.0367 - accuracy: 0.9894 - val_loss: 0.0606 - val_accuracy: 0.9831\n",
            "Epoch 6/10\n",
            "207/207 [==============================] - 19s 90ms/step - loss: 0.0171 - accuracy: 0.9955 - val_loss: 0.0604 - val_accuracy: 0.9795\n",
            "Epoch 7/10\n",
            "207/207 [==============================] - 18s 87ms/step - loss: 0.0065 - accuracy: 0.9988 - val_loss: 0.0947 - val_accuracy: 0.9783\n",
            "Epoch 8/10\n",
            "207/207 [==============================] - 18s 86ms/step - loss: 0.0029 - accuracy: 0.9994 - val_loss: 0.0667 - val_accuracy: 0.9867\n",
            "Epoch 9/10\n",
            "207/207 [==============================] - 18s 88ms/step - loss: 0.0014 - accuracy: 1.0000 - val_loss: 0.0614 - val_accuracy: 0.9831\n",
            "Epoch 10/10\n",
            "207/207 [==============================] - 18s 88ms/step - loss: 3.3243e-04 - accuracy: 1.0000 - val_loss: 0.0653 - val_accuracy: 0.9855\n"
          ]
        },
        {
          "output_type": "execute_result",
          "data": {
            "text/plain": [
              "<keras.src.callbacks.History at 0x79c15769ef50>"
            ]
          },
          "metadata": {},
          "execution_count": 29
        }
      ]
    },
    {
      "cell_type": "code",
      "source": [
        "from google.colab import drive\n",
        "drive.mount('/content/drive')"
      ],
      "metadata": {
        "colab": {
          "base_uri": "https://localhost:8080/"
        },
        "id": "VhrgaKPFL8nY",
        "outputId": "f0119242-2eec-4440-cbab-c5483c38d54b"
      },
      "execution_count": null,
      "outputs": [
        {
          "output_type": "stream",
          "name": "stdout",
          "text": [
            "Drive already mounted at /content/drive; to attempt to forcibly remount, call drive.mount(\"/content/drive\", force_remount=True).\n"
          ]
        }
      ]
    },
    {
      "cell_type": "code",
      "source": [
        "image=cv2.imread('/content/drive/MyDrive/pred/pred5.jpg')"
      ],
      "metadata": {
        "id": "uB5Tn4iWkR_W"
      },
      "execution_count": null,
      "outputs": []
    },
    {
      "cell_type": "code",
      "source": [
        "img=Image.fromarray(image)\n",
        "img=img.resize((64,64))\n",
        "img=np.array(img)"
      ],
      "metadata": {
        "id": "2zlboGCuPSdF"
      },
      "execution_count": null,
      "outputs": []
    },
    {
      "cell_type": "code",
      "source": [
        "img"
      ],
      "metadata": {
        "colab": {
          "base_uri": "https://localhost:8080/",
          "height": 105
        },
        "id": "on6P4ZYkPrrZ",
        "outputId": "1210a22c-7314-4eeb-a8db-1f989e12dfd9"
      },
      "execution_count": null,
      "outputs": [
        {
          "output_type": "execute_result",
          "data": {
            "text/plain": [
              "array([[[ 0,  0,  0],\n",
              "        [ 0,  0,  0],\n",
              "        [ 0,  0,  0],\n",
              "        ...,\n",
              "        [ 0,  0,  0],\n",
              "        [ 1,  1,  1],\n",
              "        [ 9,  9,  9]],\n",
              "\n",
              "       [[ 0,  0,  0],\n",
              "        [ 0,  0,  0],\n",
              "        [ 0,  0,  0],\n",
              "        ...,\n",
              "        [ 0,  0,  0],\n",
              "        [ 1,  1,  1],\n",
              "        [ 9,  9,  9]],\n",
              "\n",
              "       [[ 0,  0,  0],\n",
              "        [ 0,  0,  0],\n",
              "        [ 1,  1,  1],\n",
              "        ...,\n",
              "        [ 0,  0,  0],\n",
              "        [ 2,  2,  2],\n",
              "        [10, 10, 10]],\n",
              "\n",
              "       ...,\n",
              "\n",
              "       [[ 0,  0,  0],\n",
              "        [ 0,  0,  0],\n",
              "        [ 0,  0,  0],\n",
              "        ...,\n",
              "        [ 0,  0,  0],\n",
              "        [ 0,  0,  0],\n",
              "        [ 1,  1,  1]],\n",
              "\n",
              "       [[ 0,  0,  0],\n",
              "        [ 0,  0,  0],\n",
              "        [ 0,  0,  0],\n",
              "        ...,\n",
              "        [ 0,  0,  0],\n",
              "        [ 0,  0,  0],\n",
              "        [ 1,  1,  1]],\n",
              "\n",
              "       [[ 0,  0,  0],\n",
              "        [ 0,  0,  0],\n",
              "        [ 0,  0,  0],\n",
              "        ...,\n",
              "        [ 0,  0,  0],\n",
              "        [ 0,  0,  0],\n",
              "        [ 0,  0,  0]]], dtype=uint8)"
            ],
            "text/html": [
              "<style>\n",
              "      .ndarray_repr .ndarray_raw_data {\n",
              "        display: none;\n",
              "      }\n",
              "      .ndarray_repr.show_array .ndarray_raw_data {\n",
              "        display: block;\n",
              "      }\n",
              "      .ndarray_repr.show_array .ndarray_image_preview {\n",
              "        display: none;\n",
              "      }\n",
              "      </style>\n",
              "      <div id=\"id-ba3788ca-369f-41fe-bc32-b9aa8bec0fb6\" class=\"ndarray_repr\"><pre>ndarray (64, 64, 3) <button style=\"padding: 0 2px;\">show data</button></pre><img src=\"data:image/png;base64,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\" class=\"ndarray_image_preview\" /><pre class=\"ndarray_raw_data\">array([[[ 0,  0,  0],\n",
              "        [ 0,  0,  0],\n",
              "        [ 0,  0,  0],\n",
              "        ...,\n",
              "        [ 0,  0,  0],\n",
              "        [ 1,  1,  1],\n",
              "        [ 9,  9,  9]],\n",
              "\n",
              "       [[ 0,  0,  0],\n",
              "        [ 0,  0,  0],\n",
              "        [ 0,  0,  0],\n",
              "        ...,\n",
              "        [ 0,  0,  0],\n",
              "        [ 1,  1,  1],\n",
              "        [ 9,  9,  9]],\n",
              "\n",
              "       [[ 0,  0,  0],\n",
              "        [ 0,  0,  0],\n",
              "        [ 1,  1,  1],\n",
              "        ...,\n",
              "        [ 0,  0,  0],\n",
              "        [ 2,  2,  2],\n",
              "        [10, 10, 10]],\n",
              "\n",
              "       ...,\n",
              "\n",
              "       [[ 0,  0,  0],\n",
              "        [ 0,  0,  0],\n",
              "        [ 0,  0,  0],\n",
              "        ...,\n",
              "        [ 0,  0,  0],\n",
              "        [ 0,  0,  0],\n",
              "        [ 1,  1,  1]],\n",
              "\n",
              "       [[ 0,  0,  0],\n",
              "        [ 0,  0,  0],\n",
              "        [ 0,  0,  0],\n",
              "        ...,\n",
              "        [ 0,  0,  0],\n",
              "        [ 0,  0,  0],\n",
              "        [ 1,  1,  1]],\n",
              "\n",
              "       [[ 0,  0,  0],\n",
              "        [ 0,  0,  0],\n",
              "        [ 0,  0,  0],\n",
              "        ...,\n",
              "        [ 0,  0,  0],\n",
              "        [ 0,  0,  0],\n",
              "        [ 0,  0,  0]]], dtype=uint8)</pre></div><script>\n",
              "      (() => {\n",
              "      const titles = ['show data', 'hide data'];\n",
              "      let index = 0\n",
              "      document.querySelector('#id-ba3788ca-369f-41fe-bc32-b9aa8bec0fb6 button').onclick = (e) => {\n",
              "        document.querySelector('#id-ba3788ca-369f-41fe-bc32-b9aa8bec0fb6').classList.toggle('show_array');\n",
              "        index = (++index) % 2;\n",
              "        document.querySelector('#id-ba3788ca-369f-41fe-bc32-b9aa8bec0fb6 button').textContent = titles[index];\n",
              "        e.preventDefault();\n",
              "        e.stopPropagation();\n",
              "      }\n",
              "      })();\n",
              "    </script>"
            ]
          },
          "metadata": {},
          "execution_count": 43
        }
      ]
    },
    {
      "cell_type": "code",
      "source": [
        "input_images=np.expand_dims(img,axis=0)"
      ],
      "metadata": {
        "id": "z8dv21pgQYEt"
      },
      "execution_count": null,
      "outputs": []
    },
    {
      "cell_type": "code",
      "source": [
        "result=model.predict(input_images)"
      ],
      "metadata": {
        "colab": {
          "base_uri": "https://localhost:8080/"
        },
        "id": "xX-i0pZmPuMp",
        "outputId": "2ac9f86a-74c0-4d24-9c99-c4ef00de1472"
      },
      "execution_count": null,
      "outputs": [
        {
          "output_type": "stream",
          "name": "stdout",
          "text": [
            "1/1 [==============================] - 0s 23ms/step\n"
          ]
        }
      ]
    },
    {
      "cell_type": "code",
      "source": [
        "result"
      ],
      "metadata": {
        "colab": {
          "base_uri": "https://localhost:8080/"
        },
        "id": "Ra98f7P3QRXt",
        "outputId": "3582ee74-85f1-4162-a54b-608b76ee3576"
      },
      "execution_count": null,
      "outputs": [
        {
          "output_type": "execute_result",
          "data": {
            "text/plain": [
              "array([[1.]], dtype=float32)"
            ]
          },
          "metadata": {},
          "execution_count": 46
        }
      ]
    },
    {
      "cell_type": "code",
      "source": [],
      "metadata": {
        "id": "qiG0PdbaRCUo"
      },
      "execution_count": null,
      "outputs": []
    }
  ],
  "metadata": {
    "colab": {
      "provenance": []
    },
    "kernelspec": {
      "display_name": "Python 3",
      "name": "python3"
    },
    "language_info": {
      "name": "python"
    }
  },
  "nbformat": 4,
  "nbformat_minor": 0
}